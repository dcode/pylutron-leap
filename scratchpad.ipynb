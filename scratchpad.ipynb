{
 "cells": [
  {
   "cell_type": "markdown",
   "metadata": {},
   "source": [
    "# What is this?\n",
    "\n",
    "This library started to improve the current [pylutron_caseta](https://github.com/gurumitts/pylutron-caseta) package, but I got a bit nuts enumerating all the messages, so I renamed it since it would be a very significant pull request.\n",
    "\n",
    "That said, I'm happy to work it back in, if there is a desire.\n",
    "\n",
    "## The Approach\n",
    "\n",
    "I reverse engineered the protocol primarily using my current RA3 processor, capturing network traffic using a MITM SSL proxy. I generated many actions from a couple different systems to record how they worked.\n",
    "\n",
    "## The state of things\n",
    "\n",
    "I'm confident in the API implementation, that it is complete in the currently available features of the platform. The models need a bit more work, but subscriptions and commands do currently work. I'm working out some bugs in the callbacks.\n",
    "\n",
    "## How it's supposed to work\n",
    "\n",
    "The way I've observed other systems interacting with RA3 the startup flow goes like this:\n",
    "\n",
    "1. Connect over TLS (cert is signed using the known chain with a root Lutron CA)\n",
    "2. Authenticate\n",
    "   1. (Option A) Send an authentication message using a username and password. When authentication is performed in this manner, the session runs at a reduced privilege level that offers \"monitor\", and \"control\". \n",
    "   2. (Option B) Authenticate with x509 cert that has been signed from the RA3 CA using the established process (similar to one used by Caseta).\n",
    "3. Subscribe to all zones and areas for status changes. The response to these requests enumerates all zones and areas. The idea is to create models for each respective item, but there's some flaw in the logic there currently."
   ]
  },
  {
   "cell_type": "markdown",
   "metadata": {},
   "source": [
    "### Code block 1\n",
    "\n",
    "This block shows basic schema usage to dump a message header using enums and string values."
   ]
  },
  {
   "cell_type": "markdown",
   "metadata": {},
   "source": []
  },
  {
   "cell_type": "code",
   "execution_count": null,
   "metadata": {},
   "outputs": [],
   "source": [
    "from pylutron_leap.api.message import ResponseStatus, LeapMessageHeader, LeapMessage, LeapDirectives\n",
    "from pylutron_leap.api.enum import CommuniqueType, MessageBodyTypeEnum\n",
    "\n",
    "\n",
    "\n",
    "r = ResponseStatus.from_str(\"200 OK\")\n",
    "\n",
    "\n",
    "_obj: LeapMessageHeader = LeapMessageHeader(\n",
    "    Url=\"/not/a/real/endpoint\",\n",
    "    StatusCode=ResponseStatus.from_str(\"200 OK\"),\n",
    "    MessageBodyType=MessageBodyTypeEnum.OneAreaStatus,\n",
    "    Directives=LeapDirectives(SuppressMessageBody=False),\n",
    ")\n",
    "\n",
    "LeapMessageHeader.Schema().dump(_obj)\n",
    "\n",
    "# _val = LeapMessage(CommuniqueType=CommuniqueType.ReadRequest, Header=LeapHeader(Url=\"/server/status/ping\"))\n",
    "# LeapMessage.Schema().dump(_val)"
   ]
  },
  {
   "cell_type": "markdown",
   "metadata": {},
   "source": []
  },
  {
   "cell_type": "markdown",
   "metadata": {},
   "source": []
  },
  {
   "cell_type": "markdown",
   "metadata": {},
   "source": [
    "### Code block 2\n",
    "\n",
    "This block shows basic schema usage for an entire message type."
   ]
  },
  {
   "cell_type": "markdown",
   "metadata": {},
   "source": []
  },
  {
   "cell_type": "code",
   "execution_count": null,
   "metadata": {},
   "outputs": [],
   "source": [
    "\n",
    "from pylutron_leap.api.emergency import EmergencyStatus, LeapEmergencyBody\n",
    "from pylutron_leap.api.enum import (\n",
    "    CommuniqueType,\n",
    "    EmergencyStateEnum,\n",
    "    MessageBodyTypeEnum,\n",
    ")\n",
    "from pylutron_leap.api.message import LeapMessage, LeapMessageHeader\n",
    "\n",
    "_obj = LeapMessage(\n",
    "        CommuniqueType=CommuniqueType.UpdateRequest,\n",
    "        Header=LeapMessageHeader(Url=\"/emergency/flash/status\"),\n",
    "        Body=LeapEmergencyBody(\n",
    "            EmergencyStatus=EmergencyStatus(ActiveState=EmergencyStateEnum.Active)\n",
    "        ),\n",
    "    )\n",
    "\n",
    "LeapMessage.Schema().dump(_obj)\n"
   ]
  },
  {
   "cell_type": "markdown",
   "metadata": {},
   "source": [
    "In this cell, I'm playing with the session trying to get the \"normal\" process flow to work. Some of the APIs are not available when authenticating with username/password. Ideally, we can find work arounds for those."
   ]
  },
  {
   "cell_type": "code",
   "execution_count": null,
   "metadata": {},
   "outputs": [],
   "source": [
    "import asyncio\n",
    "import json\n",
    "import os\n",
    "from logging import getLogger\n",
    "\n",
    "from dotenv import load_dotenv\n",
    "\n",
    "from pylutron_leap.api.enum import (\n",
    "    CommuniqueType,\n",
    "    ContextTypeEnum,\n",
    "    FanSpeedType,\n",
    "    MessageBodyTypeEnum,\n",
    ")\n",
    "from pylutron_leap.api.login import LeapLoginBody, LoginBody\n",
    "from pylutron_leap.api.message import LeapMessage, LeapMessageHeader\n",
    "from pylutron_leap.models.area import Area\n",
    "from pylutron_leap.models.fan import FanModel\n",
    "from pylutron_leap.models.zone import Zone\n",
    "from pylutron_leap.session import LeapSession\n",
    "\n",
    "logger = getLogger()\n",
    "\n",
    "asyncio.get_running_loop().set_debug(True)\n",
    "\n",
    "# Load connection parameters from `.env` file\n",
    "load_dotenv()\n",
    "lutron_host=os.getenv('LUTRON_HOST')\n",
    "lutron_user=os.getenv('LUTRON_USER')\n",
    "lutron_pass=os.getenv('LUTRON_PASS')\n",
    "\n",
    "_config = {\n",
    "    \"host\": lutron_host,\n",
    "    \"port\": 8081,\n",
    "    \"ca_chain\": \"caseta-bridge.crt\",\n",
    "    \"keyfile\": \"caseta.key\",\n",
    "    \"certfile\": \"caseta.crt\",\n",
    "    \"username\": lutron_user,\n",
    "    \"password\": lutron_pass,\n",
    "    \"verify_tls\": True\n",
    "}\n",
    "session = LeapSession(**_config)\n",
    "# session.close()\n",
    "\n",
    "await session.connect()\n",
    "logger.debug(\"Connected...presumably\")\n",
    "\n",
    "logger.debug(f\"Logged in: {session.logged_in}\")\n",
    "\n",
    "await session._login_completed\n",
    "\n",
    "await asyncio.sleep(3)\n",
    "\n",
    "logger.debug(\"=================================================================\")\n",
    "# _areas = await Area.get_areas(session)\n",
    "logger.debug(list(session.areas))\n",
    "\n",
    "logger.debug(\"=================================================================\")\n",
    "\n",
    "# _areas = await Area.get_areas(session)\n",
    "logger.debug(list(session.zones))\n",
    "\n",
    "logger.debug(\"=================================================================\")\n",
    "\n",
    "logger.debug(list(session.devices))\n",
    "\n",
    "\n",
    "logger.debug(\"=================================================================\")\n",
    "\n",
    "# logger.debug(Zone.zones)\n",
    "\n",
    "# json.dumps(LeapMessage.Schema().dump(_msg))\n",
    "\n",
    "# This is 15 minutes, which is a bit much, but you need to sleep in the notebook to receive the occupied events for the area\n",
    "await asyncio.sleep(900) \n"
   ]
  }
 ],
 "metadata": {
  "interpreter": {
   "hash": "b8e52a04cfe0eb96c81bc564c72a42e3a2329554ef3b7cfaf02c2c534aecd5ba"
  },
  "kernelspec": {
   "display_name": "Python 3.10.2 64-bit",
   "language": "python",
   "name": "python3"
  },
  "language_info": {
   "codemirror_mode": {
    "name": "ipython",
    "version": 3
   },
   "file_extension": ".py",
   "mimetype": "text/x-python",
   "name": "python",
   "nbconvert_exporter": "python",
   "pygments_lexer": "ipython3",
   "version": "3.10.2"
  },
  "orig_nbformat": 4
 },
 "nbformat": 4,
 "nbformat_minor": 2
}
